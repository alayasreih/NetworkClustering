{
 "cells": [
  {
   "cell_type": "code",
   "id": "initial_id",
   "metadata": {
    "collapsed": true,
    "ExecuteTime": {
     "end_time": "2024-07-04T17:23:01.899249Z",
     "start_time": "2024-07-04T17:23:01.892402Z"
    }
   },
   "source": [
    "import os\n",
    "import pandas as pd\n",
    "import geopandas as gpd\n",
    "# from osgeo import gdal\n",
    "# import contextily as ctx\n",
    "import matplotlib.pyplot as plt\n",
    "from statsmodels.stats.weightstats import DescrStatsW\n",
    "import sumolib\n",
    "import scienceplots\n",
    "plt.style.use(['science', 'no-latex'])\n",
    "from aux_functions import load_pickle"
   ],
   "outputs": [],
   "execution_count": 169
  },
  {
   "cell_type": "code",
   "source": "scr = 'Zurich'",
   "metadata": {
    "collapsed": false,
    "ExecuteTime": {
     "end_time": "2024-07-04T17:23:01.945460Z",
     "start_time": "2024-07-04T17:23:01.934848Z"
    }
   },
   "id": "a4da1c15221da05d",
   "outputs": [],
   "execution_count": 170
  },
  {
   "cell_type": "code",
   "source": [
    "standard_input = load_pickle(r'data\\{}\\input\\standard_input.pkl'.format(scr))\n",
    "detectors_standard_input = load_pickle(r'data\\{}\\input\\detectors_standard_input.pkl'.format(scr))"
   ],
   "metadata": {
    "collapsed": false,
    "ExecuteTime": {
     "end_time": "2024-07-04T17:23:01.976581Z",
     "start_time": "2024-07-04T17:23:01.953591Z"
    }
   },
   "id": "93bfe90344d11c1e",
   "outputs": [],
   "execution_count": 171
  },
  {
   "cell_type": "code",
   "source": [
    "# define directory\n",
    "result_dir = r'results\\{}\\scr_evaluation'.format(scr)\n",
    "if not os.path.isdir(result_dir):\n",
    "    os.makedirs(result_dir)"
   ],
   "metadata": {
    "collapsed": false,
    "ExecuteTime": {
     "end_time": "2024-07-04T17:23:01.983135Z",
     "start_time": "2024-07-04T17:23:01.976581Z"
    }
   },
   "id": "f0ab63bebc1bc9de",
   "outputs": [],
   "execution_count": 172
  },
  {
   "cell_type": "markdown",
   "source": [
    "# Network"
   ],
   "metadata": {
    "collapsed": false
   },
   "id": "978bd0dd3bf97b75"
  },
  {
   "cell_type": "code",
   "source": [
    "network_gdf = gpd.GeoDataFrame(standard_input[['edge_id', 'geometry']].drop_duplicates(), geometry='geometry')#, crs= 'EPSG:4326').to_crs('EPSG:25832')\n",
    "detectors_gdf = gpd.GeoDataFrame(detectors_standard_input[['detector_id', 'geometry']].drop_duplicates(), geometry='geometry')#, crs= 'EPSG:4326').to_crs('EPSG:25832')\n",
    "\n",
    "# plot\n",
    "fig, ax = plt.subplots(figsize=(2, 2), dpi=1200)\n",
    "\n",
    "network_gdf.plot(ax=ax, linewidth=0.15)\n",
    "detectors_gdf.plot(ax=ax, color='red', edgecolor='none', markersize=0.2)\n",
    "\n",
    "# add a base map\n",
    "# ctx.add_basemap(ax, crs=network_gdf.crs, source='CartoDB.Positron', attribution_size=1, zoom=16)\n",
    "\n",
    "# format\n",
    "ax.set_axis_off()\n",
    "ax.grid(False)\n",
    "for spine in ax.spines.values():\n",
    "    spine.set_visible(False)\n",
    "\n",
    "# save plot\n",
    "plt.savefig(os.path.join(result_dir, 'network.png'), bbox_inches='tight')\n",
    "plt.close()"
   ],
   "metadata": {
    "collapsed": false,
    "ExecuteTime": {
     "end_time": "2024-07-04T17:23:02.391272Z",
     "start_time": "2024-07-04T17:23:01.983135Z"
    }
   },
   "id": "7701b675baa8b867",
   "outputs": [],
   "execution_count": 173
  },
  {
   "cell_type": "markdown",
   "source": [
    "# MFD "
   ],
   "metadata": {
    "collapsed": false
   },
   "id": "d0115cadec8efad9"
  },
  {
   "cell_type": "code",
   "source": [
    "stats = []\n",
    "for timestep, temp in standard_input.groupby('timestep'):\n",
    "    speed = DescrStatsW(temp.speed, weights=temp.sampled_seconds)\n",
    "    density = DescrStatsW(temp.density, weights=temp.length)\n",
    "    flow = DescrStatsW(temp.flow, weights=temp.length)\n",
    "\n",
    "    stats.append(\n",
    "        (timestep, \n",
    "         speed.mean, speed.std, speed.var,\n",
    "         density.mean, density.std, density.var,\n",
    "         flow.mean, flow.var, flow.std)\n",
    "    )\n",
    "\n",
    "mfd = pd.DataFrame(stats, columns=['timestep', \n",
    "                                    'speed_mean', 'speed_std', 'speed_var',\n",
    "                                    'density_mean', 'density_std', 'density_var',\n",
    "                                    'flow_mean', 'flow_var', 'flow_std']\n",
    "                    )"
   ],
   "metadata": {
    "collapsed": false,
    "ExecuteTime": {
     "end_time": "2024-07-04T17:23:02.408327Z",
     "start_time": "2024-07-04T17:23:02.391272Z"
    }
   },
   "id": "9d756e9046a3b083",
   "outputs": [],
   "execution_count": 174
  },
  {
   "cell_type": "code",
   "source": [
    "fig, ax = plt.subplots(figsize=(4, 4), dpi=600)\n",
    "sc = ax.scatter(mfd.density_mean, mfd.flow_mean, c =mfd.timestep, s=4, cmap='viridis', edgecolor='none')\n",
    "\n",
    "# Add color bar\n",
    "cbar = plt.colorbar(sc, ax=ax)\n",
    "cbar.set_label('Timestep [sec]', fontsize=4)   \n",
    "cbar.ax.tick_params(which='major', labelsize=4, pad=1, length=1.2, width=0.3)\n",
    "cbar.ax.tick_params(which='minor', length=0.8, width=0.2)\n",
    "cbar.outline.set_visible(False)\n",
    "\n",
    "# format\n",
    "ax.set_xlabel('Density [veh/km-ln]', fontsize=6, labelpad=2)\n",
    "ax.set_ylabel('Flow [veh/hr-ln]', fontsize=6, labelpad=2)\n",
    "\n",
    "ax.set_xlim(0)\n",
    "ax.set_ylim(0)\n",
    "\n",
    "ax.spines['top'].set_visible(False)\n",
    "ax.spines['right'].set_visible(False)\n",
    "\n",
    "ax.minorticks_off()\n",
    "ax.tick_params(axis='both', which='both', labelsize=6, pad=2, top=False, right=False)\n",
    "\n",
    "plt.savefig(os.path.join(result_dir, 'mfd.png'), bbox_inches='tight')\n",
    "plt.close('all')"
   ],
   "metadata": {
    "collapsed": false,
    "ExecuteTime": {
     "end_time": "2024-07-04T17:23:03.005872Z",
     "start_time": "2024-07-04T17:23:02.408327Z"
    }
   },
   "id": "cfdecf0880484129",
   "outputs": [],
   "execution_count": 175
  },
  {
   "cell_type": "markdown",
   "source": [
    "# Density Over Time"
   ],
   "metadata": {
    "collapsed": false
   },
   "id": "f020c3f821aeea4c"
  },
  {
   "cell_type": "code",
   "source": [
    "fig, ax = plt.subplots(figsize=(10, 5), dpi=600)\n",
    "\n",
    "# plot\n",
    "ax.plot(mfd.timestep, mfd.density_mean, linewidth=1, alpha=0.2, label='Density [veh/km-ln]', color='grey')\n",
    "ax.scatter(mfd.timestep, mfd.density_mean, c =mfd.timestep, s=4, cmap='viridis', edgecolor='none')\n",
    "\n",
    "ax.plot(mfd.timestep, mfd.density_std, alpha=0.2, color='grey', linestyle='--', label='Density SD [veh/km-ln]')\n",
    "\n",
    "# Add color bar\n",
    "cbar = plt.colorbar(sc, ax=ax)\n",
    "cbar.set_label('Timestep [sec]', fontsize=8)   \n",
    "cbar.ax.tick_params(which='major', labelsize=8, pad=1, length=1.2, width=0.3)\n",
    "cbar.ax.tick_params(which='minor', length=0.8, width=0.2)\n",
    "cbar.outline.set_visible(False)\n",
    "\n",
    "# format\n",
    "ax.set_xlabel('Time [s]', fontsize=8, labelpad=4)\n",
    "ax.set_ylabel('Density [veh/km-ln]', fontsize=8, labelpad=4)\n",
    "\n",
    "ax.set_xlim(0, mfd.timestep.max())\n",
    "ax.set_ylim(0)\n",
    "\n",
    "ax.spines['top'].set_visible(False)\n",
    "ax.spines['right'].set_visible(False)\n",
    "\n",
    "ax.minorticks_off()\n",
    "ax.tick_params(axis='both', which='both', labelsize=8, pad=4, top=False, right=False)\n",
    "ax.grid(True, which='both', linestyle='--', linewidth=0.5)\n",
    "\n",
    "# add a legend\n",
    "ax.legend(fontsize=8, loc='upper left')\n",
    "\n",
    "# save the plot\n",
    "plt.savefig(os.path.join(result_dir, 'density.png'), bbox_inches='tight')\n",
    "plt.close('all')\n"
   ],
   "metadata": {
    "collapsed": false,
    "ExecuteTime": {
     "end_time": "2024-07-04T17:23:03.913617Z",
     "start_time": "2024-07-04T17:23:03.005872Z"
    }
   },
   "id": "5064a1c75b0bc38a",
   "outputs": [],
   "execution_count": 176
  },
  {
   "cell_type": "markdown",
   "source": [
    "# No. of running vehicles over time"
   ],
   "metadata": {
    "collapsed": false
   },
   "id": "5e3ba9a03377a95e"
  },
  {
   "cell_type": "code",
   "source": [
    "file_path = r'scenarios\\{}\\output\\summary_output.xml'.format(scr)\n",
    "times = []\n",
    "no_vehs = []\n",
    "for time, no_veh in sumolib.xml.parse_fast(file_path, 'step', ['time', 'running']):\n",
    "    times.append(sumolib.miscutils.parseTime(time))\n",
    "    no_vehs.append(float(no_veh))"
   ],
   "metadata": {
    "collapsed": false,
    "ExecuteTime": {
     "end_time": "2024-07-04T17:23:03.969631Z",
     "start_time": "2024-07-04T17:23:03.913617Z"
    }
   },
   "id": "ed928713a91c7019",
   "outputs": [],
   "execution_count": 177
  },
  {
   "cell_type": "code",
   "source": [
    "fig, ax = plt.subplots(figsize=(10, 5), dpi=600)\n",
    "ax.plot(times, no_vehs, color='blue', label='Running Vehicles [#]')\n",
    "\n",
    "ax.set_xlabel('Time [sec]', fontsize=8, labelpad=4)\n",
    "ax.set_ylabel('Running Vehicles [#]', fontsize=8, labelpad=4)\n",
    "\n",
    "ax.set_xlim(0, max(times))\n",
    "ax.set_ylim(0, max(no_vehs) + 200)\n",
    "\n",
    "ax.spines['top'].set_visible(False)\n",
    "ax.spines['right'].set_visible(False)\n",
    "\n",
    "ax.minorticks_off()\n",
    "ax.tick_params(axis='both', which='both', labelsize=8, pad=4, top=False, right=False)\n",
    "ax.grid(True, which='both', linestyle='--', linewidth=0.5)\n",
    "ax.legend(fontsize=8)\n",
    "\n",
    "plot_path = os.path.join(result_dir, 'running_vehicles.png').replace(os.sep, '/')\n",
    "plt.savefig(plot_path, bbox_inches='tight')\n",
    "plt.close()"
   ],
   "metadata": {
    "collapsed": false,
    "ExecuteTime": {
     "end_time": "2024-07-04T17:23:04.835731Z",
     "start_time": "2024-07-04T17:23:03.969631Z"
    }
   },
   "id": "e5f80f09012f5629",
   "outputs": [],
   "execution_count": 178
  },
  {
   "cell_type": "markdown",
   "source": [
    "# Teleporting over time"
   ],
   "metadata": {
    "collapsed": false
   },
   "id": "818d905667468324"
  },
  {
   "cell_type": "code",
   "source": [
    "file_path = r'scenarios\\{}\\output\\summary_output.xml'.format(scr)\n",
    "times = []\n",
    "no_vehs = []\n",
    "for time, no_veh in sumolib.xml.parse_fast(file_path, 'step', ['time', 'teleports']):\n",
    "    times.append(sumolib.miscutils.parseTime(time))\n",
    "    no_vehs.append(float(no_veh))"
   ],
   "metadata": {
    "collapsed": false,
    "ExecuteTime": {
     "end_time": "2024-07-04T17:23:04.888837Z",
     "start_time": "2024-07-04T17:23:04.836760Z"
    }
   },
   "id": "dd878078e4706892",
   "outputs": [],
   "execution_count": 179
  },
  {
   "cell_type": "code",
   "source": [
    "fig, ax = plt.subplots(figsize=(10, 5), dpi=600)\n",
    "ax.plot(times, no_vehs, color='blue', label='Teleported Vehicles [#]')\n",
    "\n",
    "ax.set_xlabel('Time [sec]', fontsize=8, labelpad=4)\n",
    "ax.set_ylabel('Teleported Vehicles [#]', fontsize=8, labelpad=4)\n",
    "\n",
    "ax.set_xlim(0, max(times))\n",
    "ax.set_ylim(0, max(no_vehs) + 200)\n",
    "\n",
    "ax.spines['top'].set_visible(False)\n",
    "ax.spines['right'].set_visible(False)\n",
    "\n",
    "ax.minorticks_off()\n",
    "ax.tick_params(axis='both', which='both', labelsize=8, pad=4, top=False, right=False)\n",
    "ax.grid(True, which='both', linestyle='--', linewidth=0.5)\n",
    "ax.legend(fontsize=8)\n",
    "\n",
    "plot_path = os.path.join(result_dir, 'teleported_vehicles.png').replace(os.sep, '/')\n",
    "plt.savefig(plot_path, bbox_inches='tight')\n",
    "plt.close()"
   ],
   "metadata": {
    "collapsed": false,
    "ExecuteTime": {
     "end_time": "2024-07-04T17:23:05.668621Z",
     "start_time": "2024-07-04T17:23:04.888837Z"
    }
   },
   "id": "da4f61c2bdf483eb",
   "outputs": [],
   "execution_count": 180
  },
  {
   "cell_type": "markdown",
   "source": [
    "# Density Over Space (Heatmap)"
   ],
   "metadata": {
    "collapsed": false
   },
   "id": "a3f7dbd3385917c1"
  },
  {
   "cell_type": "code",
   "source": [
    "from matplotlib.colors import Normalize\n",
    "from mpl_toolkits.axes_grid1 import make_axes_locatable\n",
    "\n",
    "# create GeoDataFrame\n",
    "gdf = gpd.GeoDataFrame(standard_input[standard_input.timestep==3300], geometry='geometry')#, crs='EPSG:4326').to_crs('EPSG:25832')\n",
    "\n",
    "# plot\n",
    "fig, ax = plt.subplots(figsize=(2, 2), dpi=600)\n",
    "cax = gdf.plot(\n",
    "    ax=ax,\n",
    "    column='density',\n",
    "    linewidth=0.15,\n",
    "    cmap='Reds',\n",
    "    legend=False  # disable the default legend\n",
    ")\n",
    "\n",
    "# add colorbar manually\n",
    "norm = Normalize(vmin=gdf['density'].min(), vmax=gdf['density'].max())\n",
    "divider = make_axes_locatable(ax)\n",
    "cax = divider.append_axes(\"right\", size=\"5%\", pad=0)\n",
    "sm = plt.cm.ScalarMappable(cmap='Reds', norm=norm)\n",
    "sm.set_array([])\n",
    "cbar = fig.colorbar(sm, cax=cax)\n",
    "cbar.set_label(\"Density [veh/km-ln]\", fontsize=4)   \n",
    "cbar.ax.tick_params(which='major', labelsize=4, pad=1, length=1, width=0.2)\n",
    "cbar.ax.tick_params(which='minor', length=0.5, width=0.1)\n",
    "\n",
    "# add basemap\n",
    "# ctx.add_basemap(ax, crs=gdf.crs, source='CartoDB.Positron', attribution_size=1, zoom=16)\n",
    "\n",
    "# remove the colorbar frame\n",
    "cbar.outline.set_visible(False)\n",
    "\n",
    "# format\n",
    "ax.minorticks_off()\n",
    "ax.set_axis_off()\n",
    "ax.grid(False)\n",
    "for spine in ax.spines.values():\n",
    "    spine.set_visible(False)\n",
    "\n",
    "# save the plot\n",
    "plt.savefig(os.path.join(result_dir, 'density_heatmap'), bbox_inches='tight')\n",
    "plt.close()"
   ],
   "metadata": {
    "collapsed": false,
    "ExecuteTime": {
     "end_time": "2024-07-04T17:23:06.265975Z",
     "start_time": "2024-07-04T17:23:05.668621Z"
    }
   },
   "id": "a52d6e8dc112dff6",
   "outputs": [],
   "execution_count": 181
  },
  {
   "cell_type": "code",
   "source": [
    "mfd.to_csv(os.path.join(result_dir, 'mfd.csv'), index=False)\n",
    "standard_input.to_csv(os.path.join(result_dir, 'standard_input.csv'), index=False)"
   ],
   "metadata": {
    "collapsed": false,
    "ExecuteTime": {
     "end_time": "2024-07-04T17:23:06.498734Z",
     "start_time": "2024-07-04T17:23:06.265975Z"
    }
   },
   "id": "35d24847e3e4d7f3",
   "outputs": [],
   "execution_count": 182
  }
 ],
 "metadata": {
  "kernelspec": {
   "display_name": "Python 3",
   "language": "python",
   "name": "python3"
  },
  "language_info": {
   "codemirror_mode": {
    "name": "ipython",
    "version": 2
   },
   "file_extension": ".py",
   "mimetype": "text/x-python",
   "name": "python",
   "nbconvert_exporter": "python",
   "pygments_lexer": "ipython2",
   "version": "2.7.6"
  }
 },
 "nbformat": 4,
 "nbformat_minor": 5
}
