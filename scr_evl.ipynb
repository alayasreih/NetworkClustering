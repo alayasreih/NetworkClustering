{
 "cells": [
  {
   "cell_type": "code",
   "id": "initial_id",
   "metadata": {
    "collapsed": true,
    "ExecuteTime": {
     "end_time": "2024-07-16T19:44:54.361254Z",
     "start_time": "2024-07-16T19:44:48.776330Z"
    }
   },
   "source": [
    "import os\n",
    "import pandas as pd\n",
    "import geopandas as gpd\n",
    "# from osgeo import gdal\n",
    "# import contextily as ctx\n",
    "import matplotlib.pyplot as plt\n",
    "from statsmodels.stats.weightstats import DescrStatsW\n",
    "import sumolib\n",
    "import scienceplots\n",
    "plt.style.use(['science', 'no-latex'])\n",
    "from aux_functions import load_pickle"
   ],
   "outputs": [],
   "execution_count": 1
  },
  {
   "cell_type": "code",
   "source": "scr = 'Zurich'",
   "metadata": {
    "collapsed": false,
    "ExecuteTime": {
     "end_time": "2024-07-16T19:44:54.367906Z",
     "start_time": "2024-07-16T19:44:54.363266Z"
    }
   },
   "id": "a4da1c15221da05d",
   "outputs": [],
   "execution_count": 2
  },
  {
   "metadata": {
    "ExecuteTime": {
     "end_time": "2024-07-16T19:44:55.624277Z",
     "start_time": "2024-07-16T19:44:54.368912Z"
    }
   },
   "cell_type": "code",
   "source": [
    "standard_input = load_pickle(r'data\\{}\\input\\standard_input.pkl'.format(scr))\n",
    "detectors_standard_input = load_pickle(r'data\\{}\\input\\detectors_standard_input.pkl'.format(scr))"
   ],
   "id": "a8c1e7d2515a338f",
   "outputs": [],
   "execution_count": 3
  },
  {
   "metadata": {
    "ExecuteTime": {
     "end_time": "2024-07-16T19:44:55.629404Z",
     "start_time": "2024-07-16T19:44:55.626287Z"
    }
   },
   "cell_type": "code",
   "source": [
    "# define directory\n",
    "result_dir = r'results\\{}\\scr_evaluation'.format(scr)\n",
    "if not os.path.isdir(result_dir):\n",
    "    os.makedirs(result_dir)"
   ],
   "id": "f0ab63bebc1bc9de",
   "outputs": [],
   "execution_count": 4
  },
  {
   "metadata": {},
   "cell_type": "markdown",
   "source": "# Network Features",
   "id": "59e18772112617db"
  },
  {
   "metadata": {
    "ExecuteTime": {
     "end_time": "2024-07-16T19:45:09.261619Z",
     "start_time": "2024-07-16T19:44:55.630415Z"
    }
   },
   "cell_type": "code",
   "source": "gdf = gpd.GeoDataFrame(standard_input[['edge_id', 'lane_id', 'geometry']].drop_duplicates(), geometry='geometry', crs='EPSG:4326').to_crs(crs='EPSG:25832')",
   "id": "125049c15b6d99a3",
   "outputs": [],
   "execution_count": 5
  },
  {
   "metadata": {
    "ExecuteTime": {
     "end_time": "2024-07-16T19:45:09.268015Z",
     "start_time": "2024-07-16T19:45:09.262632Z"
    }
   },
   "cell_type": "code",
   "source": [
    "network_bounds = gdf.total_bounds\n",
    "print('Network extent:', round((network_bounds[2] - network_bounds[0])/1000), 'km', 'X',round((network_bounds[3] - network_bounds[1])/1000), 'km')"
   ],
   "id": "67cc9108eaf30295",
   "outputs": [
    {
     "name": "stdout",
     "output_type": "stream",
     "text": [
      "Network extent: 13 km X 14 km\n"
     ]
    }
   ],
   "execution_count": 6
  },
  {
   "metadata": {
    "ExecuteTime": {
     "end_time": "2024-07-16T19:45:09.299087Z",
     "start_time": "2024-07-16T19:45:09.269020Z"
    }
   },
   "cell_type": "code",
   "source": [
    "net_lane_length = gdf.length.sum()\n",
    "net_edge_length = gdf[['edge_id', 'geometry']].drop_duplicates().length.sum()"
   ],
   "id": "d2a2641998be8568",
   "outputs": [],
   "execution_count": 7
  },
  {
   "metadata": {
    "ExecuteTime": {
     "end_time": "2024-07-16T19:45:09.304183Z",
     "start_time": "2024-07-16T19:45:09.300099Z"
    }
   },
   "cell_type": "code",
   "source": [
    "print('Network lane length: {:.0f} ln-km'.format(net_lane_length/1000))\n",
    "print('Network edge length: {:.0f} km'.format(net_edge_length/1000))"
   ],
   "id": "c81d41a4b5fcddf3",
   "outputs": [
    {
     "name": "stdout",
     "output_type": "stream",
     "text": [
      "Network lane length: 979 ln-km\n",
      "Network edge length: 769 km\n"
     ]
    }
   ],
   "execution_count": 8
  },
  {
   "metadata": {
    "ExecuteTime": {
     "end_time": "2024-07-16T19:45:09.312997Z",
     "start_time": "2024-07-16T19:45:09.305191Z"
    }
   },
   "cell_type": "code",
   "source": [
    "print('No. of lanes:', gdf.lane_id.nunique())\n",
    "print('No. of edges:', gdf.edge_id.nunique())"
   ],
   "id": "328f087eccc4936d",
   "outputs": [
    {
     "name": "stdout",
     "output_type": "stream",
     "text": [
      "No. of lanes: 9320\n",
      "No. of edges: 7237\n"
     ]
    }
   ],
   "execution_count": 9
  },
  {
   "metadata": {
    "ExecuteTime": {
     "end_time": "2024-07-16T19:45:09.377475Z",
     "start_time": "2024-07-16T19:45:09.315004Z"
    }
   },
   "cell_type": "code",
   "source": [
    "edges = gdf.edge_id.unique()\n",
    "nodes = load_pickle(r'data\\{}\\network\\nodes.pkl'.format(scr)).explode('connected_edges')\n",
    "print('No. of nodes:', nodes.loc[nodes.connected_edges.isin(edges)].node_id.nunique())"
   ],
   "id": "67a64da1d3c793a3",
   "outputs": [
    {
     "name": "stdout",
     "output_type": "stream",
     "text": [
      "No. of nodes: 3530\n"
     ]
    }
   ],
   "execution_count": 10
  },
  {
   "cell_type": "markdown",
   "source": [
    "# Network"
   ],
   "metadata": {
    "collapsed": false
   },
   "id": "978bd0dd3bf97b75"
  },
  {
   "cell_type": "code",
   "source": [
    "network_gdf = gpd.GeoDataFrame(standard_input[['edge_id', 'geometry']].drop_duplicates(), geometry='geometry', crs= 'EPSG:4326').to_crs('EPSG:25832')\n",
    "detectors_gdf = gpd.GeoDataFrame(detectors_standard_input[['detector_id', 'geometry']].drop_duplicates(), geometry='geometry', crs= 'EPSG:4326').to_crs('EPSG:25832')\n",
    "\n",
    "# plot\n",
    "fig, ax = plt.subplots(figsize=(2, 2), dpi=1200)\n",
    "\n",
    "network_gdf.plot(ax=ax, linewidth=0.15)\n",
    "detectors_gdf.plot(ax=ax, color='red', edgecolor='none', markersize=0.2)\n",
    "\n",
    "# add a base map\n",
    "# ctx.add_basemap(ax, crs=network_gdf.crs, source='CartoDB.Positron', attribution_size=1, zoom=16)\n",
    "\n",
    "# format\n",
    "ax.set_axis_off()\n",
    "ax.grid(False)\n",
    "for spine in ax.spines.values():\n",
    "    spine.set_visible(False)\n",
    "\n",
    "# save plot\n",
    "plt.savefig(os.path.join(result_dir, 'network.png'), bbox_inches='tight')\n",
    "plt.close()"
   ],
   "metadata": {
    "collapsed": false,
    "ExecuteTime": {
     "end_time": "2024-07-16T19:45:25.783669Z",
     "start_time": "2024-07-16T19:45:09.378483Z"
    }
   },
   "id": "7701b675baa8b867",
   "outputs": [],
   "execution_count": 11
  },
  {
   "cell_type": "markdown",
   "source": [
    "# MFD "
   ],
   "metadata": {
    "collapsed": false
   },
   "id": "d0115cadec8efad9"
  },
  {
   "cell_type": "code",
   "source": [
    "stats = []\n",
    "for timestep, temp in standard_input.groupby('timestep'):\n",
    "    speed = DescrStatsW(temp.speed, weights=temp.sampled_seconds)\n",
    "    density = DescrStatsW(temp.density, weights=temp.length)\n",
    "    flow = DescrStatsW(temp.flow, weights=temp.length)\n",
    "\n",
    "    stats.append(\n",
    "        (timestep, \n",
    "         speed.mean, speed.std, speed.var,\n",
    "         density.mean, density.std, density.var,\n",
    "         flow.mean, flow.var, flow.std)\n",
    "    )\n",
    "\n",
    "mfd = pd.DataFrame(stats, columns=['timestep', \n",
    "                                    'speed_mean', 'speed_std', 'speed_var',\n",
    "                                    'density_mean', 'density_std', 'density_var',\n",
    "                                    'flow_mean', 'flow_var', 'flow_std']\n",
    "                    )"
   ],
   "metadata": {
    "collapsed": false,
    "ExecuteTime": {
     "end_time": "2024-07-16T19:45:26.141140Z",
     "start_time": "2024-07-16T19:45:25.784711Z"
    }
   },
   "id": "9d756e9046a3b083",
   "outputs": [],
   "execution_count": 12
  },
  {
   "cell_type": "code",
   "source": [
    "fig, ax = plt.subplots(figsize=(4, 4), dpi=600)\n",
    "sc = ax.scatter(mfd.density_mean, mfd.flow_mean, c =mfd.timestep, s=4, cmap='viridis', edgecolor='none')\n",
    "\n",
    "# Add color bar\n",
    "cbar = plt.colorbar(sc, ax=ax)\n",
    "cbar.set_label('Timestep [sec]', fontsize=4)   \n",
    "cbar.ax.tick_params(which='major', labelsize=4, pad=1, length=1.2, width=0.3)\n",
    "cbar.ax.tick_params(which='minor', length=0.8, width=0.2)\n",
    "cbar.outline.set_visible(False)\n",
    "\n",
    "# format\n",
    "ax.set_xlabel('Density [veh/km-ln]', fontsize=6, labelpad=2)\n",
    "ax.set_ylabel('Flow [veh/hr-ln]', fontsize=6, labelpad=2)\n",
    "\n",
    "ax.set_xlim(0)\n",
    "ax.set_ylim(0)\n",
    "\n",
    "ax.spines['top'].set_visible(False)\n",
    "ax.spines['right'].set_visible(False)\n",
    "\n",
    "ax.minorticks_off()\n",
    "ax.tick_params(axis='both', which='both', labelsize=6, pad=2, top=False, right=False)\n",
    "\n",
    "plt.savefig(os.path.join(result_dir, 'mfd.png'), bbox_inches='tight')\n",
    "plt.close('all')"
   ],
   "metadata": {
    "collapsed": false,
    "ExecuteTime": {
     "end_time": "2024-07-16T19:45:26.867632Z",
     "start_time": "2024-07-16T19:45:26.142144Z"
    }
   },
   "id": "cfdecf0880484129",
   "outputs": [],
   "execution_count": 13
  },
  {
   "cell_type": "markdown",
   "source": [
    "# Density Over Time"
   ],
   "metadata": {
    "collapsed": false
   },
   "id": "f020c3f821aeea4c"
  },
  {
   "cell_type": "code",
   "source": [
    "fig, ax = plt.subplots(figsize=(10, 5), dpi=600)\n",
    "\n",
    "# plot\n",
    "ax.plot(mfd.timestep, mfd.density_mean, linewidth=1, alpha=0.2, label='Density [veh/km-ln]', color='grey')\n",
    "ax.scatter(mfd.timestep, mfd.density_mean, c =mfd.timestep, s=4, cmap='viridis', edgecolor='none')\n",
    "\n",
    "ax.plot(mfd.timestep, mfd.density_std, alpha=0.2, color='grey', linestyle='--', label='Density SD [veh/km-ln]')\n",
    "\n",
    "# Add color bar\n",
    "cbar = plt.colorbar(sc, ax=ax)\n",
    "cbar.set_label('Timestep [sec]', fontsize=8)   \n",
    "cbar.ax.tick_params(which='major', labelsize=8, pad=1, length=1.2, width=0.3)\n",
    "cbar.ax.tick_params(which='minor', length=0.8, width=0.2)\n",
    "cbar.outline.set_visible(False)\n",
    "\n",
    "# format\n",
    "ax.set_xlabel('Time [s]', fontsize=8, labelpad=4)\n",
    "ax.set_ylabel('Density [veh/km-ln]', fontsize=8, labelpad=4)\n",
    "\n",
    "ax.set_xlim(0, mfd.timestep.max())\n",
    "ax.set_ylim(0)\n",
    "\n",
    "ax.spines['top'].set_visible(False)\n",
    "ax.spines['right'].set_visible(False)\n",
    "\n",
    "ax.minorticks_off()\n",
    "ax.tick_params(axis='both', which='both', labelsize=8, pad=4, top=False, right=False)\n",
    "ax.grid(True, which='both', linestyle='--', linewidth=0.5)\n",
    "\n",
    "# add a legend\n",
    "ax.legend(fontsize=8, loc='upper left')\n",
    "\n",
    "# save the plot\n",
    "plt.savefig(os.path.join(result_dir, 'density.png'), bbox_inches='tight')\n",
    "plt.close('all')\n"
   ],
   "metadata": {
    "collapsed": false,
    "ExecuteTime": {
     "end_time": "2024-07-16T19:45:28.031577Z",
     "start_time": "2024-07-16T19:45:26.868638Z"
    }
   },
   "id": "5064a1c75b0bc38a",
   "outputs": [],
   "execution_count": 14
  },
  {
   "cell_type": "markdown",
   "source": [
    "# No. of running vehicles over time"
   ],
   "metadata": {
    "collapsed": false
   },
   "id": "5e3ba9a03377a95e"
  },
  {
   "cell_type": "code",
   "source": [
    "file_path = r'scenarios\\{}\\output\\summary_output.xml'.format(scr)\n",
    "times = []\n",
    "no_vehs = []\n",
    "for time, no_veh in sumolib.xml.parse_fast(file_path, 'step', ['time', 'running']):\n",
    "    times.append(sumolib.miscutils.parseTime(time))\n",
    "    no_vehs.append(float(no_veh))"
   ],
   "metadata": {
    "collapsed": false,
    "ExecuteTime": {
     "end_time": "2024-07-16T19:45:28.327520Z",
     "start_time": "2024-07-16T19:45:28.032588Z"
    }
   },
   "id": "ed928713a91c7019",
   "outputs": [],
   "execution_count": 15
  },
  {
   "cell_type": "code",
   "source": [
    "fig, ax = plt.subplots(figsize=(10, 5), dpi=600)\n",
    "ax.plot(times, no_vehs, color='blue', label='Running Vehicles [#]')\n",
    "\n",
    "ax.set_xlabel('Time [sec]', fontsize=8, labelpad=4)\n",
    "ax.set_ylabel('Running Vehicles [#]', fontsize=8, labelpad=4)\n",
    "\n",
    "ax.set_xlim(0, max(times))\n",
    "ax.set_ylim(0, max(no_vehs) + 200)\n",
    "\n",
    "ax.spines['top'].set_visible(False)\n",
    "ax.spines['right'].set_visible(False)\n",
    "\n",
    "ax.minorticks_off()\n",
    "ax.tick_params(axis='both', which='both', labelsize=8, pad=4, top=False, right=False)\n",
    "ax.grid(True, which='both', linestyle='--', linewidth=0.5)\n",
    "ax.legend(fontsize=8)\n",
    "\n",
    "plot_path = os.path.join(result_dir, 'running_vehicles.png').replace(os.sep, '/')\n",
    "plt.savefig(plot_path, bbox_inches='tight')\n",
    "plt.close()"
   ],
   "metadata": {
    "collapsed": false,
    "ExecuteTime": {
     "end_time": "2024-07-16T19:45:29.419687Z",
     "start_time": "2024-07-16T19:45:28.328025Z"
    }
   },
   "id": "e5f80f09012f5629",
   "outputs": [],
   "execution_count": 16
  },
  {
   "cell_type": "markdown",
   "source": [
    "# Teleporting over time"
   ],
   "metadata": {
    "collapsed": false
   },
   "id": "818d905667468324"
  },
  {
   "cell_type": "code",
   "source": [
    "file_path = r'scenarios\\{}\\output\\summary_output.xml'.format(scr)\n",
    "times = []\n",
    "no_vehs = []\n",
    "for time, no_veh in sumolib.xml.parse_fast(file_path, 'step', ['time', 'teleports']):\n",
    "    times.append(sumolib.miscutils.parseTime(time))\n",
    "    no_vehs.append(float(no_veh))"
   ],
   "metadata": {
    "collapsed": false,
    "ExecuteTime": {
     "end_time": "2024-07-16T19:45:29.700749Z",
     "start_time": "2024-07-16T19:45:29.420700Z"
    }
   },
   "id": "dd878078e4706892",
   "outputs": [],
   "execution_count": 17
  },
  {
   "cell_type": "code",
   "source": [
    "fig, ax = plt.subplots(figsize=(10, 5), dpi=600)\n",
    "ax.plot(times, no_vehs, color='blue', label='Teleported Vehicles [#]')\n",
    "\n",
    "ax.set_xlabel('Time [sec]', fontsize=8, labelpad=4)\n",
    "ax.set_ylabel('Teleported Vehicles [#]', fontsize=8, labelpad=4)\n",
    "\n",
    "ax.set_xlim(0, max(times))\n",
    "ax.set_ylim(0, max(no_vehs) + 200)\n",
    "\n",
    "ax.spines['top'].set_visible(False)\n",
    "ax.spines['right'].set_visible(False)\n",
    "\n",
    "ax.minorticks_off()\n",
    "ax.tick_params(axis='both', which='both', labelsize=8, pad=4, top=False, right=False)\n",
    "ax.grid(True, which='both', linestyle='--', linewidth=0.5)\n",
    "ax.legend(fontsize=8)\n",
    "\n",
    "plot_path = os.path.join(result_dir, 'teleported_vehicles.png').replace(os.sep, '/')\n",
    "plt.savefig(plot_path, bbox_inches='tight')\n",
    "plt.close()"
   ],
   "metadata": {
    "collapsed": false,
    "ExecuteTime": {
     "end_time": "2024-07-16T19:45:30.719604Z",
     "start_time": "2024-07-16T19:45:29.701789Z"
    }
   },
   "id": "da4f61c2bdf483eb",
   "outputs": [],
   "execution_count": 18
  },
  {
   "cell_type": "markdown",
   "source": [
    "# Density Over Space (Heatmap)"
   ],
   "metadata": {
    "collapsed": false
   },
   "id": "a3f7dbd3385917c1"
  },
  {
   "cell_type": "code",
   "source": [
    "from matplotlib.colors import Normalize\n",
    "from mpl_toolkits.axes_grid1 import make_axes_locatable\n",
    "\n",
    "# create GeoDataFrame\n",
    "gdf = gpd.GeoDataFrame(standard_input[standard_input.timestep==3300], geometry='geometry', crs='EPSG:4326').to_crs('EPSG:25832')\n",
    "\n",
    "# plot\n",
    "fig, ax = plt.subplots(figsize=(2, 2), dpi=600)\n",
    "cax = gdf.plot(\n",
    "    ax=ax,\n",
    "    column='density',\n",
    "    linewidth=0.15,\n",
    "    cmap='Reds',\n",
    "    legend=False  # disable the default legend\n",
    ")\n",
    "\n",
    "# add colorbar manually\n",
    "norm = Normalize(vmin=gdf['density'].min(), vmax=gdf['density'].max())\n",
    "divider = make_axes_locatable(ax)\n",
    "cax = divider.append_axes(\"right\", size=\"5%\", pad=0)\n",
    "sm = plt.cm.ScalarMappable(cmap='Reds', norm=norm)\n",
    "sm.set_array([])\n",
    "cbar = fig.colorbar(sm, cax=cax)\n",
    "cbar.set_label(\"Density [veh/km-ln]\", fontsize=4)   \n",
    "cbar.ax.tick_params(which='major', labelsize=4, pad=1, length=1, width=0.2)\n",
    "cbar.ax.tick_params(which='minor', length=0.5, width=0.1)\n",
    "\n",
    "# add basemap\n",
    "# ctx.add_basemap(ax, crs=gdf.crs, source='CartoDB.Positron', attribution_size=1, zoom=16)\n",
    "\n",
    "# remove the colorbar frame\n",
    "cbar.outline.set_visible(False)\n",
    "\n",
    "# format\n",
    "ax.minorticks_off()\n",
    "ax.set_axis_off()\n",
    "ax.grid(False)\n",
    "for spine in ax.spines.values():\n",
    "    spine.set_visible(False)\n",
    "\n",
    "# save the plot\n",
    "plt.savefig(os.path.join(result_dir, 'density_heatmap'), bbox_inches='tight')\n",
    "plt.close()"
   ],
   "metadata": {
    "collapsed": false,
    "ExecuteTime": {
     "end_time": "2024-07-16T19:45:31.699399Z",
     "start_time": "2024-07-16T19:45:30.720612Z"
    }
   },
   "id": "a52d6e8dc112dff6",
   "outputs": [],
   "execution_count": 19
  },
  {
   "cell_type": "code",
   "source": [
    "mfd.to_csv(os.path.join(result_dir, 'mfd.csv'), index=False)\n",
    "standard_input.to_csv(os.path.join(result_dir, 'standard_input.csv'), index=False)"
   ],
   "metadata": {
    "collapsed": false,
    "ExecuteTime": {
     "end_time": "2024-07-16T19:46:42.549019Z",
     "start_time": "2024-07-16T19:45:31.700411Z"
    }
   },
   "id": "35d24847e3e4d7f3",
   "outputs": [],
   "execution_count": 20
  },
  {
   "metadata": {},
   "cell_type": "code",
   "outputs": [],
   "execution_count": null,
   "source": "",
   "id": "dcefeed6b5395668"
  }
 ],
 "metadata": {
  "kernelspec": {
   "display_name": "Python 3",
   "language": "python",
   "name": "python3"
  },
  "language_info": {
   "codemirror_mode": {
    "name": "ipython",
    "version": 2
   },
   "file_extension": ".py",
   "mimetype": "text/x-python",
   "name": "python",
   "nbconvert_exporter": "python",
   "pygments_lexer": "ipython2",
   "version": "2.7.6"
  }
 },
 "nbformat": 4,
 "nbformat_minor": 5
}
